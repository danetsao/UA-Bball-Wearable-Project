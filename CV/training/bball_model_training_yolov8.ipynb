{
 "cells": [
  {
   "cell_type": "code",
   "execution_count": 1,
   "metadata": {},
   "outputs": [
    {
     "name": "stdout",
     "output_type": "stream",
     "text": [
      "Requirement already satisfied: ultralytics in c:\\users\\willr\\classes\\fall_2024\\cs_495\\repository\\ua-bball-wearable-project\\venv\\lib\\site-packages (8.2.98)\n",
      "Requirement already satisfied: tqdm>=4.64.0 in c:\\users\\willr\\classes\\fall_2024\\cs_495\\repository\\ua-bball-wearable-project\\venv\\lib\\site-packages (from ultralytics) (4.66.5)\n",
      "Requirement already satisfied: torch>=1.8.0 in c:\\users\\willr\\classes\\fall_2024\\cs_495\\repository\\ua-bball-wearable-project\\venv\\lib\\site-packages (from ultralytics) (2.4.1)\n",
      "Requirement already satisfied: requests>=2.23.0 in c:\\users\\willr\\classes\\fall_2024\\cs_495\\repository\\ua-bball-wearable-project\\venv\\lib\\site-packages (from ultralytics) (2.32.3)\n",
      "Requirement already satisfied: pillow>=7.1.2 in c:\\users\\willr\\classes\\fall_2024\\cs_495\\repository\\ua-bball-wearable-project\\venv\\lib\\site-packages (from ultralytics) (10.4.0)\n",
      "Requirement already satisfied: opencv-python>=4.6.0 in c:\\users\\willr\\classes\\fall_2024\\cs_495\\repository\\ua-bball-wearable-project\\venv\\lib\\site-packages (from ultralytics) (4.10.0.84)\n",
      "Requirement already satisfied: matplotlib>=3.3.0 in c:\\users\\willr\\classes\\fall_2024\\cs_495\\repository\\ua-bball-wearable-project\\venv\\lib\\site-packages (from ultralytics) (3.9.2)\n",
      "Requirement already satisfied: torchvision>=0.9.0 in c:\\users\\willr\\classes\\fall_2024\\cs_495\\repository\\ua-bball-wearable-project\\venv\\lib\\site-packages (from ultralytics) (0.19.1)\n",
      "Requirement already satisfied: numpy<2.0.0,>=1.23.0 in c:\\users\\willr\\classes\\fall_2024\\cs_495\\repository\\ua-bball-wearable-project\\venv\\lib\\site-packages (from ultralytics) (1.26.4)\n",
      "Requirement already satisfied: pandas>=1.1.4 in c:\\users\\willr\\classes\\fall_2024\\cs_495\\repository\\ua-bball-wearable-project\\venv\\lib\\site-packages (from ultralytics) (2.2.3)\n",
      "Requirement already satisfied: pyyaml>=5.3.1 in c:\\users\\willr\\classes\\fall_2024\\cs_495\\repository\\ua-bball-wearable-project\\venv\\lib\\site-packages (from ultralytics) (6.0.2)\n",
      "Requirement already satisfied: ultralytics-thop>=2.0.0 in c:\\users\\willr\\classes\\fall_2024\\cs_495\\repository\\ua-bball-wearable-project\\venv\\lib\\site-packages (from ultralytics) (2.0.6)\n",
      "Requirement already satisfied: scipy>=1.4.1 in c:\\users\\willr\\classes\\fall_2024\\cs_495\\repository\\ua-bball-wearable-project\\venv\\lib\\site-packages (from ultralytics) (1.14.1)\n",
      "Requirement already satisfied: py-cpuinfo in c:\\users\\willr\\classes\\fall_2024\\cs_495\\repository\\ua-bball-wearable-project\\venv\\lib\\site-packages (from ultralytics) (9.0.0)\n",
      "Requirement already satisfied: psutil in c:\\users\\willr\\classes\\fall_2024\\cs_495\\repository\\ua-bball-wearable-project\\venv\\lib\\site-packages (from ultralytics) (6.0.0)\n",
      "Requirement already satisfied: seaborn>=0.11.0 in c:\\users\\willr\\classes\\fall_2024\\cs_495\\repository\\ua-bball-wearable-project\\venv\\lib\\site-packages (from ultralytics) (0.13.2)\n",
      "Requirement already satisfied: python-dateutil>=2.7 in c:\\users\\willr\\classes\\fall_2024\\cs_495\\repository\\ua-bball-wearable-project\\venv\\lib\\site-packages (from matplotlib>=3.3.0->ultralytics) (2.9.0.post0)\n",
      "Requirement already satisfied: contourpy>=1.0.1 in c:\\users\\willr\\classes\\fall_2024\\cs_495\\repository\\ua-bball-wearable-project\\venv\\lib\\site-packages (from matplotlib>=3.3.0->ultralytics) (1.3.0)\n",
      "Requirement already satisfied: pyparsing>=2.3.1 in c:\\users\\willr\\classes\\fall_2024\\cs_495\\repository\\ua-bball-wearable-project\\venv\\lib\\site-packages (from matplotlib>=3.3.0->ultralytics) (3.1.4)\n",
      "Requirement already satisfied: cycler>=0.10 in c:\\users\\willr\\classes\\fall_2024\\cs_495\\repository\\ua-bball-wearable-project\\venv\\lib\\site-packages (from matplotlib>=3.3.0->ultralytics) (0.12.1)\n",
      "Requirement already satisfied: packaging>=20.0 in c:\\users\\willr\\classes\\fall_2024\\cs_495\\repository\\ua-bball-wearable-project\\venv\\lib\\site-packages (from matplotlib>=3.3.0->ultralytics) (24.1)\n",
      "Requirement already satisfied: fonttools>=4.22.0 in c:\\users\\willr\\classes\\fall_2024\\cs_495\\repository\\ua-bball-wearable-project\\venv\\lib\\site-packages (from matplotlib>=3.3.0->ultralytics) (4.53.1)\n",
      "Requirement already satisfied: kiwisolver>=1.3.1 in c:\\users\\willr\\classes\\fall_2024\\cs_495\\repository\\ua-bball-wearable-project\\venv\\lib\\site-packages (from matplotlib>=3.3.0->ultralytics) (1.4.7)\n",
      "Requirement already satisfied: pytz>=2020.1 in c:\\users\\willr\\classes\\fall_2024\\cs_495\\repository\\ua-bball-wearable-project\\venv\\lib\\site-packages (from pandas>=1.1.4->ultralytics) (2024.2)\n",
      "Requirement already satisfied: tzdata>=2022.7 in c:\\users\\willr\\classes\\fall_2024\\cs_495\\repository\\ua-bball-wearable-project\\venv\\lib\\site-packages (from pandas>=1.1.4->ultralytics) (2024.1)\n",
      "Requirement already satisfied: certifi>=2017.4.17 in c:\\users\\willr\\classes\\fall_2024\\cs_495\\repository\\ua-bball-wearable-project\\venv\\lib\\site-packages (from requests>=2.23.0->ultralytics) (2024.8.30)\n",
      "Requirement already satisfied: charset-normalizer<4,>=2 in c:\\users\\willr\\classes\\fall_2024\\cs_495\\repository\\ua-bball-wearable-project\\venv\\lib\\site-packages (from requests>=2.23.0->ultralytics) (3.3.2)\n",
      "Requirement already satisfied: urllib3<3,>=1.21.1 in c:\\users\\willr\\classes\\fall_2024\\cs_495\\repository\\ua-bball-wearable-project\\venv\\lib\\site-packages (from requests>=2.23.0->ultralytics) (2.2.3)\n",
      "Requirement already satisfied: idna<4,>=2.5 in c:\\users\\willr\\classes\\fall_2024\\cs_495\\repository\\ua-bball-wearable-project\\venv\\lib\\site-packages (from requests>=2.23.0->ultralytics) (3.7)\n",
      "Requirement already satisfied: jinja2 in c:\\users\\willr\\classes\\fall_2024\\cs_495\\repository\\ua-bball-wearable-project\\venv\\lib\\site-packages (from torch>=1.8.0->ultralytics) (3.1.4)\n",
      "Requirement already satisfied: typing-extensions>=4.8.0 in c:\\users\\willr\\classes\\fall_2024\\cs_495\\repository\\ua-bball-wearable-project\\venv\\lib\\site-packages (from torch>=1.8.0->ultralytics) (4.12.2)\n",
      "Requirement already satisfied: filelock in c:\\users\\willr\\classes\\fall_2024\\cs_495\\repository\\ua-bball-wearable-project\\venv\\lib\\site-packages (from torch>=1.8.0->ultralytics) (3.16.1)\n",
      "Requirement already satisfied: networkx in c:\\users\\willr\\classes\\fall_2024\\cs_495\\repository\\ua-bball-wearable-project\\venv\\lib\\site-packages (from torch>=1.8.0->ultralytics) (3.3)\n",
      "Requirement already satisfied: sympy in c:\\users\\willr\\classes\\fall_2024\\cs_495\\repository\\ua-bball-wearable-project\\venv\\lib\\site-packages (from torch>=1.8.0->ultralytics) (1.13.3)\n",
      "Requirement already satisfied: fsspec in c:\\users\\willr\\classes\\fall_2024\\cs_495\\repository\\ua-bball-wearable-project\\venv\\lib\\site-packages (from torch>=1.8.0->ultralytics) (2024.9.0)\n",
      "Requirement already satisfied: colorama in c:\\users\\willr\\classes\\fall_2024\\cs_495\\repository\\ua-bball-wearable-project\\venv\\lib\\site-packages (from tqdm>=4.64.0->ultralytics) (0.4.6)\n",
      "Requirement already satisfied: six>=1.5 in c:\\users\\willr\\classes\\fall_2024\\cs_495\\repository\\ua-bball-wearable-project\\venv\\lib\\site-packages (from python-dateutil>=2.7->matplotlib>=3.3.0->ultralytics) (1.16.0)\n",
      "Requirement already satisfied: MarkupSafe>=2.0 in c:\\users\\willr\\classes\\fall_2024\\cs_495\\repository\\ua-bball-wearable-project\\venv\\lib\\site-packages (from jinja2->torch>=1.8.0->ultralytics) (2.1.5)\n",
      "Requirement already satisfied: mpmath<1.4,>=1.1.0 in c:\\users\\willr\\classes\\fall_2024\\cs_495\\repository\\ua-bball-wearable-project\\venv\\lib\\site-packages (from sympy->torch>=1.8.0->ultralytics) (1.3.0)\n",
      "Note: you may need to restart the kernel to use updated packages.\n"
     ]
    },
    {
     "name": "stderr",
     "output_type": "stream",
     "text": [
      "\n",
      "[notice] A new release of pip available: 22.2.2 -> 24.2\n",
      "[notice] To update, run: python.exe -m pip install --upgrade pip\n"
     ]
    },
    {
     "name": "stdout",
     "output_type": "stream",
     "text": [
      "Note: you may need to restart the kernel to use updated packages.\n",
      "Requirement already satisfied: roboflow in c:\\users\\willr\\classes\\fall_2024\\cs_495\\repository\\ua-bball-wearable-project\\venv\\lib\\site-packages (1.1.45)\n",
      "Requirement already satisfied: tqdm>=4.41.0 in c:\\users\\willr\\classes\\fall_2024\\cs_495\\repository\\ua-bball-wearable-project\\venv\\lib\\site-packages (from roboflow) (4.66.5)\n",
      "Requirement already satisfied: python-dotenv in c:\\users\\willr\\classes\\fall_2024\\cs_495\\repository\\ua-bball-wearable-project\\venv\\lib\\site-packages (from roboflow) (1.0.1)\n",
      "Requirement already satisfied: matplotlib in c:\\users\\willr\\classes\\fall_2024\\cs_495\\repository\\ua-bball-wearable-project\\venv\\lib\\site-packages (from roboflow) (3.9.2)\n",
      "Requirement already satisfied: PyYAML>=5.3.1 in c:\\users\\willr\\classes\\fall_2024\\cs_495\\repository\\ua-bball-wearable-project\\venv\\lib\\site-packages (from roboflow) (6.0.2)\n",
      "Requirement already satisfied: Pillow>=7.1.2 in c:\\users\\willr\\classes\\fall_2024\\cs_495\\repository\\ua-bball-wearable-project\\venv\\lib\\site-packages (from roboflow) (10.4.0)\n",
      "Requirement already satisfied: six in c:\\users\\willr\\classes\\fall_2024\\cs_495\\repository\\ua-bball-wearable-project\\venv\\lib\\site-packages (from roboflow) (1.16.0)\n",
      "Requirement already satisfied: requests-toolbelt in c:\\users\\willr\\classes\\fall_2024\\cs_495\\repository\\ua-bball-wearable-project\\venv\\lib\\site-packages (from roboflow) (1.0.0)\n",
      "Requirement already satisfied: python-dateutil in c:\\users\\willr\\classes\\fall_2024\\cs_495\\repository\\ua-bball-wearable-project\\venv\\lib\\site-packages (from roboflow) (2.9.0.post0)\n",
      "Requirement already satisfied: numpy>=1.18.5 in c:\\users\\willr\\classes\\fall_2024\\cs_495\\repository\\ua-bball-wearable-project\\venv\\lib\\site-packages (from roboflow) (1.26.4)\n",
      "Requirement already satisfied: certifi in c:\\users\\willr\\classes\\fall_2024\\cs_495\\repository\\ua-bball-wearable-project\\venv\\lib\\site-packages (from roboflow) (2024.8.30)\n",
      "Requirement already satisfied: requests in c:\\users\\willr\\classes\\fall_2024\\cs_495\\repository\\ua-bball-wearable-project\\venv\\lib\\site-packages (from roboflow) (2.32.3)\n",
      "Requirement already satisfied: urllib3>=1.26.6 in c:\\users\\willr\\classes\\fall_2024\\cs_495\\repository\\ua-bball-wearable-project\\venv\\lib\\site-packages (from roboflow) (2.2.3)\n",
      "Requirement already satisfied: filetype in c:\\users\\willr\\classes\\fall_2024\\cs_495\\repository\\ua-bball-wearable-project\\venv\\lib\\site-packages (from roboflow) (1.2.0)\n",
      "Requirement already satisfied: cycler in c:\\users\\willr\\classes\\fall_2024\\cs_495\\repository\\ua-bball-wearable-project\\venv\\lib\\site-packages (from roboflow) (0.12.1)\n",
      "Requirement already satisfied: kiwisolver>=1.3.1 in c:\\users\\willr\\classes\\fall_2024\\cs_495\\repository\\ua-bball-wearable-project\\venv\\lib\\site-packages (from roboflow) (1.4.7)\n",
      "Requirement already satisfied: idna==3.7 in c:\\users\\willr\\classes\\fall_2024\\cs_495\\repository\\ua-bball-wearable-project\\venv\\lib\\site-packages (from roboflow) (3.7)\n",
      "Requirement already satisfied: opencv-python-headless==4.10.0.84 in c:\\users\\willr\\classes\\fall_2024\\cs_495\\repository\\ua-bball-wearable-project\\venv\\lib\\site-packages (from roboflow) (4.10.0.84)\n",
      "Requirement already satisfied: colorama in c:\\users\\willr\\classes\\fall_2024\\cs_495\\repository\\ua-bball-wearable-project\\venv\\lib\\site-packages (from tqdm>=4.41.0->roboflow) (0.4.6)\n",
      "Requirement already satisfied: contourpy>=1.0.1 in c:\\users\\willr\\classes\\fall_2024\\cs_495\\repository\\ua-bball-wearable-project\\venv\\lib\\site-packages (from matplotlib->roboflow) (1.3.0)\n",
      "Requirement already satisfied: pyparsing>=2.3.1 in c:\\users\\willr\\classes\\fall_2024\\cs_495\\repository\\ua-bball-wearable-project\\venv\\lib\\site-packages (from matplotlib->roboflow) (3.1.4)\n",
      "Requirement already satisfied: packaging>=20.0 in c:\\users\\willr\\classes\\fall_2024\\cs_495\\repository\\ua-bball-wearable-project\\venv\\lib\\site-packages (from matplotlib->roboflow) (24.1)\n",
      "Requirement already satisfied: fonttools>=4.22.0 in c:\\users\\willr\\classes\\fall_2024\\cs_495\\repository\\ua-bball-wearable-project\\venv\\lib\\site-packages (from matplotlib->roboflow) (4.53.1)\n",
      "Requirement already satisfied: charset-normalizer<4,>=2 in c:\\users\\willr\\classes\\fall_2024\\cs_495\\repository\\ua-bball-wearable-project\\venv\\lib\\site-packages (from requests->roboflow) (3.3.2)\n"
     ]
    },
    {
     "name": "stderr",
     "output_type": "stream",
     "text": [
      "\n",
      "[notice] A new release of pip available: 22.2.2 -> 24.2\n",
      "[notice] To update, run: python.exe -m pip install --upgrade pip\n"
     ]
    }
   ],
   "source": [
    "%pip install ultralytics\n",
    "%pip install roboflow"
   ]
  },
  {
   "cell_type": "markdown",
   "metadata": {},
   "source": [
    "### Download training dataset from roboflow\n",
    "\n",
    "FYI this was run in Google Colab (to avoid running this on local computer) w/ the resulting model then downloaded and added to this project."
   ]
  },
  {
   "cell_type": "code",
   "execution_count": 14,
   "metadata": {},
   "outputs": [
    {
     "name": "stdout",
     "output_type": "stream",
     "text": [
      "loading Roboflow workspace...\n",
      "loading Roboflow project...\n",
      "Dependency ultralytics==8.0.196 is required but found version=8.2.98, to fix: `pip install ultralytics==8.0.196`\n"
     ]
    },
    {
     "name": "stderr",
     "output_type": "stream",
     "text": [
      "Downloading Dataset Version Zip in Player_detect-1 to yolov8:: 100%|██████████| 559407/559407 [00:15<00:00, 36220.36it/s]"
     ]
    },
    {
     "name": "stdout",
     "output_type": "stream",
     "text": [
      "\n"
     ]
    },
    {
     "name": "stderr",
     "output_type": "stream",
     "text": [
      "\n",
      "Extracting Dataset Version Zip to Player_detect-1 in yolov8:: 100%|██████████| 19254/19254 [00:10<00:00, 1774.15it/s]\n"
     ]
    }
   ],
   "source": [
    "# training dataset: https://universe.roboflow.com/test-datset/player_detect-0spfb\n",
    "\n",
    "from roboflow import Roboflow\n",
    "\n",
    "rf = Roboflow(api_key=\"HojXWjEgPIzhVpx4rHWq\")\n",
    "project = rf.workspace(\"test-datset\").project(\"player_detect-0spfb\")\n",
    "version = project.version(1)\n",
    "dataset = version.download(\"yolov8\")"
   ]
  },
  {
   "cell_type": "code",
   "execution_count": 15,
   "metadata": {},
   "outputs": [
    {
     "data": {
      "text/plain": [
       "'c:\\\\Users\\\\willr\\\\Classes\\\\Fall_2024\\\\CS_495\\\\Repository\\\\UA-Bball-Wearable-Project\\\\CV\\\\training\\\\Player_detect-1'"
      ]
     },
     "execution_count": 15,
     "metadata": {},
     "output_type": "execute_result"
    }
   ],
   "source": [
    "dataset.location"
   ]
  },
  {
   "cell_type": "code",
   "execution_count": 16,
   "metadata": {},
   "outputs": [
    {
     "data": {
      "text/plain": [
       "'Player_detect-1/Player_detect-1/valid'"
      ]
     },
     "execution_count": 16,
     "metadata": {},
     "output_type": "execute_result"
    }
   ],
   "source": [
    "# move folder location of training data\n",
    "\n",
    "import shutil\n",
    "\n",
    "shutil.move('Player_detect-1/train', 'Player_detect-1/Player_detect-1/train')\n",
    "\n",
    "shutil.move('Player_detect-1/test', 'Player_detect-1/Player_detect-1/test')\n",
    "\n",
    "shutil.move('Player_detect-1/valid', 'Player_detect-1/Player_detect-1/valid')"
   ]
  },
  {
   "cell_type": "markdown",
   "metadata": {},
   "source": [
    "### Train on dataset"
   ]
  },
  {
   "cell_type": "code",
   "execution_count": 18,
   "metadata": {},
   "outputs": [],
   "source": [
    "# Chose yolov8n (nano) for fastes model, may be less accurate than other sizes\n",
    "# Also FYI, training w/ just 3 epochs took 6 hours (2hrs/epoch). May need to train for longer to get better accuracy BUT we need\n",
    "# to figure out a way to do this more expeditiously\n",
    "!yolo task=detect mode=train model=yolov8n.pt data={dataset.location}/data.yaml epochs=3 imgsz=640"
   ]
  }
 ],
 "metadata": {
  "kernelspec": {
   "display_name": "venv",
   "language": "python",
   "name": "python3"
  },
  "language_info": {
   "codemirror_mode": {
    "name": "ipython",
    "version": 3
   },
   "file_extension": ".py",
   "mimetype": "text/x-python",
   "name": "python",
   "nbconvert_exporter": "python",
   "pygments_lexer": "ipython3",
   "version": "3.10.7"
  }
 },
 "nbformat": 4,
 "nbformat_minor": 2
}
